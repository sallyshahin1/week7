{
  "nbformat": 4,
  "nbformat_minor": 0,
  "metadata": {
    "colab": {
      "provenance": []
    },
    "kernelspec": {
      "name": "python3",
      "display_name": "Python 3"
    },
    "language_info": {
      "name": "python"
    }
  },
  "cells": [
    {
      "cell_type": "code",
      "execution_count": null,
      "metadata": {
        "colab": {
          "base_uri": "https://localhost:8080/"
        },
        "id": "x1ndIzDKcAjH",
        "outputId": "9e1f6287-e7bb-4d7a-d2af-9a1b36a3d7dc"
      },
      "outputs": [
        {
          "output_type": "stream",
          "name": "stdout",
          "text": [
            "Requirement already satisfied: Flask in /usr/local/lib/python3.10/dist-packages (2.2.5)\n",
            "Requirement already satisfied: scikit-learn in /usr/local/lib/python3.10/dist-packages (1.2.2)\n",
            "Requirement already satisfied: Werkzeug>=2.2.2 in /usr/local/lib/python3.10/dist-packages (from Flask) (3.0.3)\n",
            "Requirement already satisfied: Jinja2>=3.0 in /usr/local/lib/python3.10/dist-packages (from Flask) (3.1.4)\n",
            "Requirement already satisfied: itsdangerous>=2.0 in /usr/local/lib/python3.10/dist-packages (from Flask) (2.2.0)\n",
            "Requirement already satisfied: click>=8.0 in /usr/local/lib/python3.10/dist-packages (from Flask) (8.1.7)\n",
            "Requirement already satisfied: numpy>=1.17.3 in /usr/local/lib/python3.10/dist-packages (from scikit-learn) (1.25.2)\n",
            "Requirement already satisfied: scipy>=1.3.2 in /usr/local/lib/python3.10/dist-packages (from scikit-learn) (1.11.4)\n",
            "Requirement already satisfied: joblib>=1.1.1 in /usr/local/lib/python3.10/dist-packages (from scikit-learn) (1.4.2)\n",
            "Requirement already satisfied: threadpoolctl>=2.0.0 in /usr/local/lib/python3.10/dist-packages (from scikit-learn) (3.5.0)\n",
            "Requirement already satisfied: MarkupSafe>=2.0 in /usr/local/lib/python3.10/dist-packages (from Jinja2>=3.0->Flask) (2.1.5)\n"
          ]
        }
      ],
      "source": [
        "pip install Flask scikit-learn\n"
      ]
    },
    {
      "cell_type": "code",
      "source": [
        "from flask import Flask, render_template, request, jsonify\n",
        "import numpy as np\n",
        "from sklearn.linear_model import LogisticRegression\n",
        "\n",
        "app = Flask(__name__)\n",
        "\n",
        "# Dummy model for demonstration\n",
        "model = LogisticRegression()\n",
        "X = np.array([[0], [1]])\n",
        "y = np.array([0, 1])\n",
        "model.fit(X, y)\n",
        "\n",
        "# Home page that adapts based on user input\n",
        "@app.route(\"/\", methods=[\"GET\", \"POST\"])\n",
        "def home():\n",
        "    user_preference = 0  # Default preference\n",
        "    if request.method == \"POST\":\n",
        "        if request.form['button'] == 'Light':\n",
        "            user_preference = 0\n",
        "        else:\n",
        "            user_preference = 1\n",
        "        # Predict user preference based on interaction\n",
        "        prediction = model.predict(np.array([[user_preference]]))\n",
        "        theme = \"light\" if prediction[0] == 0 else \"dark\"\n",
        "        return render_template('index.html', theme=theme)\n",
        "    return render_template('index.html', theme=\"light\")\n",
        "\n",
        "if __name__ == \"__main__\":\n",
        "    app.run(debug=True)\n"
      ],
      "metadata": {
        "colab": {
          "base_uri": "https://localhost:8080/"
        },
        "id": "OFLF0F0IcOCi",
        "outputId": "ec393d1f-2d38-4874-e19d-09ccfda13984"
      },
      "execution_count": null,
      "outputs": [
        {
          "metadata": {
            "tags": null
          },
          "name": "stdout",
          "output_type": "stream",
          "text": [
            " * Serving Flask app '__main__'\n",
            " * Debug mode: on\n"
          ]
        },
        {
          "metadata": {
            "tags": null
          },
          "name": "stderr",
          "output_type": "stream",
          "text": [
            "INFO:werkzeug:\u001b[31m\u001b[1mWARNING: This is a development server. Do not use it in a production deployment. Use a production WSGI server instead.\u001b[0m\n",
            " * Running on http://127.0.0.1:5000\n",
            "INFO:werkzeug:\u001b[33mPress CTRL+C to quit\u001b[0m\n",
            "INFO:werkzeug: * Restarting with stat\n"
          ]
        }
      ]
    },
    {
      "cell_type": "code",
      "source": [
        "<!DOCTYPE html>\n",
        "<html lang=\"en\">\n",
        "<head>\n",
        "    <meta charset=\"UTF-8\">\n",
        "    <meta name=\"viewport\" content=\"width=device-width, initial-scale=1.0\">\n",
        "    <title>Adaptive UI Example</title>\n",
        "    <style>\n",
        "        body { font-family: Arial, sans-serif; }\n",
        "        .light { background-color: #f0f0f0; color: #333; }\n",
        "        .dark { background-color: #333; color: #f0f0f0; }\n",
        "    </style>\n",
        "</head>\n",
        "<body class=\"{{ theme }}\">\n",
        "    <h1>Adaptive UI Example</h1>\n",
        "    <form method=\"post\">\n",
        "        <button name=\"button\" value=\"Light\">Light Theme</button>\n",
        "        <button name=\"button\" value=\"Dark\">Dark Theme</button>\n",
        "    </form>\n",
        "</body>\n",
        "</html>\n"
      ],
      "metadata": {
        "id": "tqG_prrdc8HK"
      },
      "execution_count": null,
      "outputs": []
    },
    {
      "cell_type": "code",
      "source": [
        "python app.py"
      ],
      "metadata": {
        "id": "T1ht5PLkdVyy"
      },
      "execution_count": null,
      "outputs": []
    }
  ]
}